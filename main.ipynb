{
 "cells": [
  {
   "cell_type": "markdown",
   "id": "0253907d",
   "metadata": {},
   "source": [
    "# Parkinson Disease Prediction"
   ]
  },
  {
   "cell_type": "markdown",
   "id": "26eed092",
   "metadata": {},
   "source": [
    "## Import Libraries"
   ]
  },
  {
   "cell_type": "code",
   "execution_count": 3,
   "id": "2e4b3a92",
   "metadata": {},
   "outputs": [],
   "source": [
    "import pandas as pd\n",
    "import numpy as np\n",
    "import seaborn as sns\n",
    "\n",
    "from matplotlib import pyplot as plt\n",
    "from sklearn.model_selection import train_test_split\n",
    "\n",
    "from sklearn.tree import DecisionTreeClassifier\n",
    "from sklearn.metrics import accuracy_score\n",
    "\n",
    "from sklearn.ensemble import RandomForestClassifier\n",
    "from sklearn.metrics import mean_squared_error\n",
    "\n",
    "from xgboost import XGBClassifier"
   ]
  },
  {
   "cell_type": "markdown",
   "id": "84cd333c",
   "metadata": {},
   "source": [
    "## Load Dataset"
   ]
  },
  {
   "cell_type": "code",
   "execution_count": 4,
   "id": "8557c038",
   "metadata": {},
   "outputs": [],
   "source": [
    "df = pd.read_csv(\"parkinsons.data\")"
   ]
  },
  {
   "cell_type": "markdown",
   "id": "74a884be",
   "metadata": {},
   "source": [
    "## References"
   ]
  },
  {
   "cell_type": "markdown",
   "id": "bd0f6fb4",
   "metadata": {},
   "source": [
    "1. Parkinson’s Disease Data Set\n",
    "    - https://www.kaggle.com/datasets/vikasukani/parkinsons-disease-data-set\n",
    "\n",
    "2. Decision Tree, Random Forest, and XGBoost: An Exploration into the Heart of Machine Learning\n",
    "    - https://medium.com/@brandon93.w/decision-tree-random-forest-and-xgboost-an-exploration-into-the-heart-of-machine-learning-90dc212f4948\n",
    "\n",
    "3. Detecting Parkinson's Disease\n",
    "    - https://www.kaggle.com/code/syedmuhammadebad/detecting-parkinson-s-disease"
   ]
  }
 ],
 "metadata": {
  "kernelspec": {
   "display_name": "Python 3",
   "language": "python",
   "name": "python3"
  },
  "language_info": {
   "codemirror_mode": {
    "name": "ipython",
    "version": 3
   },
   "file_extension": ".py",
   "mimetype": "text/x-python",
   "name": "python",
   "nbconvert_exporter": "python",
   "pygments_lexer": "ipython3",
   "version": "3.10.4"
  }
 },
 "nbformat": 4,
 "nbformat_minor": 5
}
