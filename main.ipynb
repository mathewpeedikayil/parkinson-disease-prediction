{
 "cells": [
  {
   "cell_type": "markdown",
   "id": "0253907d",
   "metadata": {},
   "source": [
    "# Parkinson Disease Prediction"
   ]
  },
  {
   "cell_type": "markdown",
   "id": "74a884be",
   "metadata": {},
   "source": [
    "## References"
   ]
  },
  {
   "cell_type": "markdown",
   "id": "bd0f6fb4",
   "metadata": {},
   "source": [
    "1. Parkinson’s Disease Data Set\n",
    "    - https://www.kaggle.com/datasets/vikasukani/parkinsons-disease-data-set\n",
    "\n",
    "2. Decision Tree, Random Forest, and XGBoost: An Exploration into the Heart of Machine Learning\n",
    "    - https://medium.com/@brandon93.w/decision-tree-random-forest-and-xgboost-an-exploration-into-the-heart-of-machine-learning-90dc212f4948\n",
    "\n",
    "3. Detecting Parkinson's Disease\n",
    "    - https://www.kaggle.com/code/syedmuhammadebad/detecting-parkinson-s-disease"
   ]
  },
  {
   "cell_type": "markdown",
   "id": "b2613c33",
   "metadata": {},
   "source": []
  }
 ],
 "metadata": {
  "language_info": {
   "name": "python"
  }
 },
 "nbformat": 4,
 "nbformat_minor": 5
}
