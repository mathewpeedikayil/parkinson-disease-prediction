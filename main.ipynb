{
 "cells": [
  {
   "cell_type": "markdown",
   "id": "0253907d",
   "metadata": {},
   "source": [
    "# Parkinson Disease Prediction"
   ]
  },
  {
   "cell_type": "markdown",
   "id": "eda417b2",
   "metadata": {},
   "source": []
  }
 ],
 "metadata": {
  "language_info": {
   "name": "python"
  }
 },
 "nbformat": 4,
 "nbformat_minor": 5
}
